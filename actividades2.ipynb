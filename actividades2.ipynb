{
  "nbformat": 4,
  "nbformat_minor": 0,
  "metadata": {
    "colab": {
      "provenance": [],
      "authorship_tag": "ABX9TyNHKoMM4BpQsF5WmzPIF2Je",
      "include_colab_link": true
    },
    "kernelspec": {
      "name": "python3",
      "display_name": "Python 3"
    },
    "language_info": {
      "name": "python"
    }
  },
  "cells": [
    {
      "cell_type": "markdown",
      "metadata": {
        "id": "view-in-github",
        "colab_type": "text"
      },
      "source": [
        "<a href=\"https://colab.research.google.com/github/mathectormtz/tareacursopython/blob/main/actividades2.ipynb\" target=\"_parent\"><img src=\"https://colab.research.google.com/assets/colab-badge.svg\" alt=\"Open In Colab\"/></a>"
      ]
    },
    {
      "cell_type": "code",
      "execution_count": null,
      "metadata": {
        "id": "cb9M8n6H2GwS"
      },
      "outputs": [],
      "source": [
        "import matploblib.pyplot as plt\n",
        "\n",
        "def sumaVectores(z1,z2):\n",
        "    return (z1[0]+z2[0], z1[1]+z2[1])\n",
        "\n",
        "z1 = (2,1)\n",
        "z2 = (3,4)\n",
        "suma = sumaComplejos(z1,z2)\n",
        "\n",
        "# grafica la suma\n",
        "plt.quiver (0,0, z1[0], z1[1], color='g',units='xy',scale=1)\n",
        "plt.quiver (z1[0], z1[1], z2[0], z2[1], color='b',units='xy',scale=1)\n",
        "plt.quiver (0,0, suma[0], suma[1], color='r',units='xy',scale=1)\n",
        "plt.axis('scaled')\n",
        "plt.xlim(0,6)\n",
        "plt.ylim(0,6)\n",
        "plt.show()"
      ]
    },
    {
      "cell_type": "code",
      "source": [],
      "metadata": {
        "id": "y9uRaPzy_DS0"
      },
      "execution_count": null,
      "outputs": []
    },
    {
      "cell_type": "code",
      "source": [
        "a=3.1416\n",
        "print('Aproximación de pi es', a,'ya es buena')"
      ],
      "metadata": {
        "colab": {
          "base_uri": "https://localhost:8080/"
        },
        "id": "Zh7lbsUjJlLs",
        "outputId": "a8c0eadf-75a2-4ea6-fe36-5431ca479902"
      },
      "execution_count": null,
      "outputs": [
        {
          "output_type": "stream",
          "name": "stdout",
          "text": [
            "Aproximación de pi es 3.1416 ya es buena\n"
          ]
        }
      ]
    },
    {
      "cell_type": "code",
      "source": [
        "a=3.1416\n",
        "print('Aproximación de pi es '+ str(a) + ' ya es buena')"
      ],
      "metadata": {
        "colab": {
          "base_uri": "https://localhost:8080/"
        },
        "id": "99OZcMj_KIkF",
        "outputId": "13d2c0bf-f8ca-4411-98b1-115d30fe612f"
      },
      "execution_count": null,
      "outputs": [
        {
          "output_type": "stream",
          "name": "stdout",
          "text": [
            "Aproximación de pi es 3.1416 ya es buena\n"
          ]
        }
      ]
    },
    {
      "cell_type": "code",
      "source": [
        "import math\n",
        "a = math.pi\n",
        "print(f'Aproximación de pi es {a:.4f} ya es buena')\n",
        "print(f'Aproximación de pi es {a:.30f} ya es buena')\n"
      ],
      "metadata": {
        "colab": {
          "base_uri": "https://localhost:8080/"
        },
        "id": "3lYZGqf-KoZX",
        "outputId": "dc891679-5d24-4a5c-b588-c6a18bec2c53"
      },
      "execution_count": null,
      "outputs": [
        {
          "output_type": "stream",
          "name": "stdout",
          "text": [
            "Aproximación de pi es 3.1416 ya es buena\n",
            "Aproximación de pi es 3.141592653589793115997963468544 ya es buena\n"
          ]
        }
      ]
    },
    {
      "cell_type": "code",
      "source": [
        "votos = 123_456_789\n",
        "padron_electoral = 340_123_456\n",
        "porcentaje = votos/padron_electoral\n",
        "print('De {:7} votantes solo votaron {:9d} que equivale al {:2.2%} '.format (padron_electoral,votos, porcentaje ))\n"
      ],
      "metadata": {
        "colab": {
          "base_uri": "https://localhost:8080/"
        },
        "id": "2gl6gU_2LncA",
        "outputId": "f73cce42-bf34-4a2d-a406-1c527a154146"
      },
      "execution_count": null,
      "outputs": [
        {
          "output_type": "stream",
          "name": "stdout",
          "text": [
            "De 340123456 votantes solo votaron 123456789 que equivale al 36.30% \n"
          ]
        }
      ]
    },
    {
      "cell_type": "code",
      "source": [
        "votos = 123_456_789\n",
        "padron_electoral = 340_123_456\n",
        "porcentaje = votos/padron_electoral\n",
        "print('De {:7} votantes solo votaron {:9d} que equivale al {:2.2%} '.format (padron_electoral,votos, porcentaje ))"
      ],
      "metadata": {
        "id": "r9mFTBhCQaql"
      },
      "execution_count": null,
      "outputs": []
    },
    {
      "cell_type": "code",
      "source": [
        "serieRaiz = []\n",
        "n = 80\n",
        "x = 8\n",
        "\n",
        "for i in range(6):\n",
        "  x =(1/2)*(x+n/x)\n",
        "  serieRaiz.append(x)\n",
        "\n",
        "print (\"La raiz de {0} es {1:.6} \".format(n,x))\n",
        "\n",
        "\n"
      ],
      "metadata": {
        "colab": {
          "base_uri": "https://localhost:8080/"
        },
        "id": "cif99umWQuoa",
        "outputId": "6af23223-6dfd-42ed-a067-6536f87c6544"
      },
      "execution_count": null,
      "outputs": [
        {
          "output_type": "stream",
          "name": "stdout",
          "text": [
            "La raiz de 80 es 8.94427 \n"
          ]
        }
      ]
    },
    {
      "cell_type": "code",
      "source": [
        "a = int(input(\"Ingrese el valor de a: \"))\n",
        "b = int(input(\"Ingrese el valor de b: \"))\n",
        "c = int(input(\"Ingrese el valor de c: \"))\n",
        "\n",
        "import math\n",
        "import cmath\n",
        "\n",
        "d = b*b - 4*a*c\n",
        "raiz = math.sqrt (d)\n",
        "if d<0:\n",
        "    solunore = (-b + raiz)/(2*a)\n",
        "    soldosim = (-b - raiz)/(2*a)\n",
        "    print(\"La solución uno es\", solunore , \"+\" , soldosim , \"i\")\n",
        "    print('La solución dos es', solunore , '-' , soldosim , 'i')\n",
        "\n",
        "else:\n",
        "    soluno = (-b + raiz)/(2*a)\n",
        "    soldos = (-b - raiz)/(2*a)\n",
        "print('La solución uno es', soluno)\n",
        "print('La solución dos es', soldos)\n"
      ],
      "metadata": {
        "colab": {
          "base_uri": "https://localhost:8080/"
        },
        "id": "O0JPNCI6LiCN",
        "outputId": "6efc0b39-ac75-4eb4-d761-89b1be5f58dd"
      },
      "execution_count": 2,
      "outputs": [
        {
          "output_type": "stream",
          "name": "stdout",
          "text": [
            "Ingrese el valor de a: 1\n",
            "Ingrese el valor de b: 2\n",
            "Ingrese el valor de c: 1\n",
            "La solución uno es -1.0\n",
            "La solución dos es -1.0\n"
          ]
        }
      ]
    },
    {
      "cell_type": "code",
      "source": [
        "from sympy import factorial\n",
        "\n",
        "import math\n",
        "\n",
        "n=int(input(\"Ingrese un número mayor o igual a cero: \"))\n",
        "\n",
        "def recursivo(n):\n",
        "  if n==0:\n",
        "    return 1\n",
        "  else:\n",
        "    return (n * recursivo(n-1))^n\n",
        "\n",
        "e = 0\n",
        "for i in range(10):\n",
        "  e += 1/factorial(i)\n",
        "\n",
        "print(f'Aproximación del número e: {e:.30f}')\n"
      ],
      "metadata": {
        "id": "_d6zSH7iUP7n",
        "colab": {
          "base_uri": "https://localhost:8080/"
        },
        "outputId": "433c11b3-ee8a-489e-9e10-436252bae347"
      },
      "execution_count": 15,
      "outputs": [
        {
          "output_type": "stream",
          "name": "stdout",
          "text": [
            "Ingrese un número mayor o igual a cero: 7\n",
            "Aproximación del número e: 2.718281525573192239858906525573\n"
          ]
        }
      ]
    },
    {
      "cell_type": "code",
      "source": [
        "import numpy as np\n",
        "\n",
        "pi=[]\n",
        "aprox = 0\n",
        "for n in range(1,100):\n",
        "    aprox = aprox + 4*(((-1)**n)*(1/(2*n-1)))\n",
        "    pi.append(aprox)\n",
        "\n",
        "print(pi)\n",
        "\n"
      ],
      "metadata": {
        "colab": {
          "base_uri": "https://localhost:8080/"
        },
        "id": "UEQ_BlpdZLxS",
        "outputId": "a54d62a5-0b5c-4a76-f538-7d278d51217a"
      },
      "execution_count": 11,
      "outputs": [
        {
          "output_type": "stream",
          "name": "stdout",
          "text": [
            "[-4.0, -2.666666666666667, -3.466666666666667, -2.8952380952380956, -3.3396825396825403, -2.9760461760461765, -3.2837384837384844, -3.017071817071818, -3.2523659347188767, -3.0418396189294032, -3.232315809405594, -3.058402765927333, -3.2184027659273333, -3.0702546177791854, -3.208185652261944, -3.079153394197428, -3.200365515409549, -3.0860798011238346, -3.1941879092319425, -3.09162380666784, -3.189184782277596, -3.0961615264636424, -3.1850504153525314, -3.099944032373808, -3.1815766854350325, -3.1031453128860127, -3.1786170109992202, -3.1058897382719475, -3.1760651768684385, -3.108268566698947, -3.1738423371907505, -3.110350273698687, -3.1718887352371485, -3.112187242699835, -3.1701582571925884, -3.1138202290235744, -3.1686147495715193, -3.115281416238186, -3.167229468186238, -3.116596556793833, -3.1659792728432157, -3.117786501758878, -3.1648453252882898, -3.118868313794037, -3.163812134018756, -3.1198560900627124, -3.1628668427508844, -3.1207615795929895, -3.161998692995051, -3.121594652591011, -3.1611986129870506, -3.12236366153074, -3.160458899625978, -3.1230757220558845, -3.1597729697623063, -3.12373693372627, -3.159135163814766, -3.124352555119114, -3.158540589307148, -3.1249271439289967, -3.157984995168666, -3.125464669965414, -3.157464669965414, -3.125968606973288, -3.1569763589112725, -3.1264420077662343, -3.156517195736159, -3.126887566106529, -3.1560846463985, -3.127307667981234, -3.155676462307475, -3.127704434335447, -3.155290641231999, -3.1280797568782575, -3.15492539446215, -3.1284353282369843, -3.1545791190866574, -3.128772667473754, -3.1542503744801236, -3.129093141775721, -3.1539378622726155, -3.129397984972002, -3.1536404092144266, -3.129688313406043, -3.1533569524592977, -3.129965139593801, -3.153086526877038, -3.1302293840198954, -3.1528282540763923, -3.1304818853613083, -3.1525813328751204, -3.1307234093778527, -3.1523450309994745, -3.1309546566679236, -3.152118677831945, -3.131176269454982, -3.151901658056018, -3.1313888375431977, -3.1516934060711166]\n"
          ]
        }
      ]
    }
  ]
}