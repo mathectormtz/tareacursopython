{
  "nbformat": 4,
  "nbformat_minor": 0,
  "metadata": {
    "colab": {
      "provenance": [],
      "authorship_tag": "ABX9TyNfo5JhjHDPkWIiINZ+0uDb",
      "include_colab_link": true
    },
    "kernelspec": {
      "name": "python3",
      "display_name": "Python 3"
    },
    "language_info": {
      "name": "python"
    }
  },
  "cells": [
    {
      "cell_type": "markdown",
      "metadata": {
        "id": "view-in-github",
        "colab_type": "text"
      },
      "source": [
        "<a href=\"https://colab.research.google.com/github/mathectormtz/tareacursopython/blob/main/tarmodulo.ipynb\" target=\"_parent\"><img src=\"https://colab.research.google.com/assets/colab-badge.svg\" alt=\"Open In Colab\"/></a>"
      ]
    },
    {
      "cell_type": "code",
      "execution_count": null,
      "metadata": {
        "collapsed": true,
        "id": "plzX6a8qwj7e"
      },
      "outputs": [],
      "source": [
        "ClaseEquiv0 = set()\n",
        "ClaseEquiv1 = set()\n",
        "ClaseEquiv2 = set()\n",
        "ClaseEquiv3 = set()\n",
        "ClaseEquiv4 = set()\n",
        "\n",
        "for i in range(100):\n",
        "    if i % 5 == 0:\n",
        "        ClaseEquiv0.add(i)\n",
        "        ClaseEquiv0.add(-i)\n",
        "    elif i % 5 == 1:\n",
        "        ClaseEquiv1.add(i)\n",
        "        ClaseEquiv1.add(-i)\n",
        "    elif i % 5 == 2:\n",
        "        ClaseEquiv2.add(i)\n",
        "        ClaseEquiv2.add(-i)\n",
        "    elif i % 5 == 3:\n",
        "        ClaseEquiv3.add(i)\n",
        "        ClaseEquiv3.add(-i)\n",
        "    else:\n",
        "        ClaseEquiv4.add(i)\n",
        "        ClaseEquiv4.add(-i)\n",
        "\n",
        "print(\"Clase [0] =\", sorted(ClaseEquiv0))\n",
        "print(\"Clase [1] =\", sorted(ClaseEquiv1))\n",
        "print(\"Clase [2] =\", sorted(ClaseEquiv2))\n",
        "print(\"Clase [3] =\", sorted(ClaseEquiv3))\n",
        "print(\"Clase [4] =\", sorted(ClaseEquiv4))\n",
        "\n",
        "print(\"La intersección de los cinco conjuntos es: \",\n",
        "      ClaseEquiv0 & ClaseEquiv1 & ClaseEquiv2 & ClaseEquiv3 & ClaseEquiv4)\n",
        "\n",
        "print(\"La unión de los cinco conjuntos es: \",\n",
        "      sorted(ClaseEquiv0 | ClaseEquiv1 | ClaseEquiv2 | ClaseEquiv3 | ClaseEquiv4))"
      ]
    },
    {
      "cell_type": "code",
      "source": [],
      "metadata": {
        "id": "ct8Vbw79GnXa"
      },
      "execution_count": null,
      "outputs": []
    },
    {
      "cell_type": "markdown",
      "source": [
        "Algoritmo de Euclides"
      ],
      "metadata": {
        "id": "x3TA08y74-uf"
      }
    },
    {
      "cell_type": "code",
      "source": [
        "a = int(input(\"Dame el primer entero: \"))\n",
        "b = int(input(\"Dame el segundo entero: \"))\n",
        "q = a//b\n",
        "r = a - b*q\n",
        "if r != 0 :\n",
        "  a = b\n",
        "  b = r\n",
        "  q = a//b\n",
        "  r = a - b*q\n",
        "\n",
        "  if r != 0:\n",
        "    a = b\n",
        "    b = r\n",
        "    q = a//b\n",
        "    r = a - b*q\n",
        "\n",
        "    if r != 0:\n",
        "      a = b\n",
        "      b = r\n",
        "      q = a//b\n",
        "      r = a - b*q\n",
        "print(\"El máximo común divisor de dichos enteros es \", b)"
      ],
      "metadata": {
        "id": "OabQGfMo5FMS"
      },
      "execution_count": null,
      "outputs": []
    }
  ]
}