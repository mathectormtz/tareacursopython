{
  "nbformat": 4,
  "nbformat_minor": 0,
  "metadata": {
    "colab": {
      "provenance": [],
      "authorship_tag": "ABX9TyOyyNTfspMg5uOMY2K7uLk3",
      "include_colab_link": true
    },
    "kernelspec": {
      "name": "python3",
      "display_name": "Python 3"
    },
    "language_info": {
      "name": "python"
    }
  },
  "cells": [
    {
      "cell_type": "markdown",
      "metadata": {
        "id": "view-in-github",
        "colab_type": "text"
      },
      "source": [
        "<a href=\"https://colab.research.google.com/github/mathectormtz/tareacursopython/blob/main/actividades4ytareadiametro.ipynb\" target=\"_parent\"><img src=\"https://colab.research.google.com/assets/colab-badge.svg\" alt=\"Open In Colab\"/></a>"
      ]
    },
    {
      "cell_type": "markdown",
      "source": [
        "ejemplo"
      ],
      "metadata": {
        "id": "B54SSnShra-t"
      }
    },
    {
      "cell_type": "code",
      "source": [
        "f1 = float(input('Da un 1er número decimal: '))\n",
        "f2 = float(input('Dame un 2do número decimal: '))\n",
        "\n",
        "print(f1 // f2)\n",
        "print(f1 % f2)\n",
        "print(f2 % f1)"
      ],
      "metadata": {
        "colab": {
          "base_uri": "https://localhost:8080/"
        },
        "id": "fhfaHSMxrktl",
        "outputId": "d0c3e3e7-2bd3-48a0-8206-bb3da2e2580c"
      },
      "execution_count": 10,
      "outputs": [
        {
          "output_type": "stream",
          "name": "stdout",
          "text": [
            "Da un 1er número decimal: 5.6\n",
            "Dame un 2do número decimal: 2.9\n",
            "1.0\n",
            "2.6999999999999997\n",
            "2.9\n"
          ]
        }
      ]
    },
    {
      "cell_type": "markdown",
      "source": [
        "ejemplo"
      ],
      "metadata": {
        "id": "T-tH1ilarwbg"
      }
    },
    {
      "cell_type": "code",
      "source": [
        "cantidad = 27.14\n",
        "print(cantidad)\n",
        "print(f'{cantidad:.20f}')"
      ],
      "metadata": {
        "colab": {
          "base_uri": "https://localhost:8080/"
        },
        "id": "BJ9fDxoXr3oc",
        "outputId": "e97ce985-44da-4a3a-bef9-aeddad870ba2"
      },
      "execution_count": 11,
      "outputs": [
        {
          "output_type": "stream",
          "name": "stdout",
          "text": [
            "27.14\n",
            "27.14000000000000056843\n"
          ]
        }
      ]
    },
    {
      "cell_type": "code",
      "source": [
        "from decimal import Decimal\n",
        "\n",
        "cantidad = Decimal('27.14')\n",
        "print(cantidad)\n",
        "print(f'{cantidad:.50f}')"
      ],
      "metadata": {
        "colab": {
          "base_uri": "https://localhost:8080/"
        },
        "id": "WA3bXmWOryNs",
        "outputId": "5110da47-684a-4725-cd2c-bfff2068f5c2"
      },
      "execution_count": 13,
      "outputs": [
        {
          "output_type": "stream",
          "name": "stdout",
          "text": [
            "27.14\n",
            "27.14000000000000000000000000000000000000000000000000\n"
          ]
        }
      ]
    },
    {
      "cell_type": "code",
      "source": [
        "fd1 = Decimal(input('Dame un 1er número decimal: '))\n",
        "fd2 = Decimal(input('Dame un 2do número decimal: '))\n",
        "\n",
        "suma = fd1 + fd2\n",
        "resta = fd1 - fd2\n",
        "multi = fd1 * fd2\n",
        "div = fd1 / fd2\n",
        "divEnt = fd1 // fd2\n",
        "residuo = fd1 % fd2\n",
        "print(f'{residuo:.20f}')\n",
        "\n",
        "print(f'{suma:.20f}')\n",
        "print(f'{resta:.20f}')\n",
        "print(f'{multi:.20f}')\n",
        "print(f'{div:.27f}')\n",
        "print(f'{divEnt:.20f}')\n",
        "print(f'{residuo:.20f}')"
      ],
      "metadata": {
        "colab": {
          "base_uri": "https://localhost:8080/"
        },
        "id": "qQvDRCzjsOho",
        "outputId": "f15a07c8-e6dd-4029-e3ce-f843148ae344"
      },
      "execution_count": 15,
      "outputs": [
        {
          "output_type": "stream",
          "name": "stdout",
          "text": [
            "Dame un 1er número decimal: 17.78\n",
            "Dame un 2do número decimal: 31.06\n",
            "17.78000000000000000000\n",
            "48.84000000000000000000\n",
            "-13.28000000000000000000\n",
            "552.24680000000000000000\n",
            "0.572440437862202189311010947\n",
            "0.00000000000000000000\n",
            "17.78000000000000000000\n"
          ]
        }
      ]
    },
    {
      "cell_type": "markdown",
      "source": [
        "ejemplo"
      ],
      "metadata": {
        "id": "hvWV5IDjtVWe"
      }
    },
    {
      "cell_type": "code",
      "source": [
        "prop1 = True\n",
        "prop2 = False\n",
        "\n",
        "\n",
        "print(not prop2)"
      ],
      "metadata": {
        "colab": {
          "base_uri": "https://localhost:8080/"
        },
        "id": "DrobVgI2tR4D",
        "outputId": "d7857546-10ae-4c89-e7b8-b1b7149650ef"
      },
      "execution_count": 17,
      "outputs": [
        {
          "output_type": "stream",
          "name": "stdout",
          "text": [
            "True\n"
          ]
        }
      ]
    },
    {
      "cell_type": "code",
      "execution_count": 1,
      "metadata": {
        "colab": {
          "base_uri": "https://localhost:8080/"
        },
        "id": "KOlF0lB0oRpT",
        "outputId": "9dfd8a0b-0abd-4fd7-9985-5b8e358ae299"
      },
      "outputs": [
        {
          "output_type": "stream",
          "name": "stdout",
          "text": [
            "The Sun have a diameter of 1392000.\n",
            "The Mercury have a diameter of 4879.\n",
            "The Venus have a diameter of 12092.\n",
            "The Earth have a diameter of 12756.\n",
            "The Mars have a diameter of 6792.\n",
            "The Jupiter have a diameter of 142984.\n",
            "The Saturn have a diameter of 120536.\n",
            "The Uranus have a diameter of 50724.\n",
            "The Neptuno have a diameter of 49244.\n",
            "The Pluto have a diameter of 2376.6.\n",
            "\n",
            "The Earth have a diameter of 12756.\n",
            "The Jupiter have a diameter of 142984.\n",
            "The Mars have a diameter of 6792.\n",
            "The Mercury have a diameter of 4879.\n",
            "The Neptuno have a diameter of 49244.\n",
            "The Pluto have a diameter of 2376.6.\n",
            "The Saturn have a diameter of 120536.\n",
            "The Sun have a diameter of 1392000.\n",
            "The Uranus have a diameter of 50724.\n",
            "The Venus have a diameter of 12092.\n"
          ]
        }
      ],
      "source": [
        "ssDiametro = {'Sun': 1392000,'Mercury' : 4879, 'Venus' : 12092, 'Earth' : 12756, 'Mars' : 6792,\n",
        "                    'Jupiter' : 142984 ,'Saturn': 120536, 'Uranus': 50724, 'Neptuno':49244,\n",
        "                    'Pluto': 2376.6}\n",
        "for x in ssDiametro:\n",
        "  print(f'The {x} have a diameter of {ssDiametro[x]}.')\n",
        "print ()\n",
        "for x in sorted(ssDiametro):\n",
        "  print(f'The {x} have a diameter of {ssDiametro[x]}.')"
      ]
    },
    {
      "cell_type": "markdown",
      "source": [
        "tarea diametro 38%"
      ],
      "metadata": {
        "id": "fdtuX4xao5oA"
      }
    },
    {
      "cell_type": "code",
      "source": [
        "ssDiametro = {'Sol': 1392000,'Mercurio' : 4879, 'Venus' : 12092, 'Tierra' : 12756, 'Marte' : 6792,\n",
        "                    'Jupiter' : 142984 ,'Saturno': 120536, 'Uranu': 50724, 'Neptuno':49244,\n",
        "                    'Pluton': 2376.6}\n",
        "for x in ssDiametro:\n",
        "  print(f'El planeta {x} tiene un diametrode {ssDiametro[x]} km')\n",
        "print ()\n",
        "for x in sorted(ssDiametro):\n",
        "  r = (ssDiametro[x]/12756)*100\n",
        "  print(f'El planeta {x}  tiene de diametro con respecto a la tierra un porcentaje de ', r, '%')"
      ],
      "metadata": {
        "colab": {
          "base_uri": "https://localhost:8080/"
        },
        "id": "c93Mm6MNo7-Q",
        "outputId": "bf6cd353-dcb5-4041-f98f-2adf08a0085a"
      },
      "execution_count": 9,
      "outputs": [
        {
          "output_type": "stream",
          "name": "stdout",
          "text": [
            "El planeta Sol tiene un diametrode 1392000 km\n",
            "El planeta Mercurio tiene un diametrode 4879 km\n",
            "El planeta Venus tiene un diametrode 12092 km\n",
            "El planeta Tierra tiene un diametrode 12756 km\n",
            "El planeta Marte tiene un diametrode 6792 km\n",
            "El planeta Jupiter tiene un diametrode 142984 km\n",
            "El planeta Saturno tiene un diametrode 120536 km\n",
            "El planeta Uranu tiene un diametrode 50724 km\n",
            "El planeta Neptuno tiene un diametrode 49244 km\n",
            "El planeta Pluton tiene un diametrode 2376.6 km\n",
            "\n",
            "El planeta Jupiter  tiene de diametro con respecto a la tierra un porcentaje de  1120.9156475384132 %\n",
            "El planeta Marte  tiene de diametro con respecto a la tierra un porcentaje de  53.24553151458138 %\n",
            "El planeta Mercurio  tiene de diametro con respecto a la tierra un porcentaje de  38.248667293822514 %\n",
            "El planeta Neptuno  tiene de diametro con respecto a la tierra un porcentaje de  386.04578237692067 %\n",
            "El planeta Pluton  tiene de diametro con respecto a la tierra un porcentaje de  18.631232361241768 %\n",
            "El planeta Saturno  tiene de diametro con respecto a la tierra un porcentaje de  944.9357165255567 %\n",
            "El planeta Sol  tiene de diametro con respecto a la tierra un porcentaje de  10912.511759172156 %\n",
            "El planeta Tierra  tiene de diametro con respecto a la tierra un porcentaje de  100.0 %\n",
            "El planeta Uranu  tiene de diametro con respecto a la tierra un porcentaje de  397.64816556914394 %\n",
            "El planeta Venus  tiene de diametro con respecto a la tierra un porcentaje de  94.79460645970524 %\n"
          ]
        }
      ]
    }
  ]
}