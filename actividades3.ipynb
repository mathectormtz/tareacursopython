{
  "nbformat": 4,
  "nbformat_minor": 0,
  "metadata": {
    "colab": {
      "provenance": [],
      "authorship_tag": "ABX9TyNNQHiioWq5wGTNQbYUCd4G",
      "include_colab_link": true
    },
    "kernelspec": {
      "name": "python3",
      "display_name": "Python 3"
    },
    "language_info": {
      "name": "python"
    }
  },
  "cells": [
    {
      "cell_type": "markdown",
      "metadata": {
        "id": "view-in-github",
        "colab_type": "text"
      },
      "source": [
        "<a href=\"https://colab.research.google.com/github/mathectormtz/tareacursopython/blob/main/actividades3.ipynb\" target=\"_parent\"><img src=\"https://colab.research.google.com/assets/colab-badge.svg\" alt=\"Open In Colab\"/></a>"
      ]
    },
    {
      "cell_type": "markdown",
      "source": [
        "sistema de ecuaciones"
      ],
      "metadata": {
        "id": "EbX9VeccmN--"
      }
    },
    {
      "cell_type": "code",
      "execution_count": 1,
      "metadata": {
        "colab": {
          "base_uri": "https://localhost:8080/"
        },
        "id": "8c2cAHy8mL4f",
        "outputId": "8a1d55d5-5f27-4e2d-cde5-54192ea29b04"
      },
      "outputs": [
        {
          "output_type": "stream",
          "name": "stdout",
          "text": [
            "La solución del sistema es:  [0.5        0.33333333 0.25      ]\n"
          ]
        }
      ],
      "source": [
        "import numpy as np\n",
        "\n",
        "from scipy.linalg import solve\n",
        "\n",
        "A = np.array([[2, 3, 4], [2, 6, 8], [4, 9, -4]])\n",
        "b = np.array([3, 5, 4])\n",
        "x = solve(A, b)\n",
        "\n",
        "print(\"La solución del sistema es: \", x)"
      ]
    },
    {
      "cell_type": "markdown",
      "source": [
        "usando numpy"
      ],
      "metadata": {
        "id": "7FRTC2BRmVxa"
      }
    },
    {
      "cell_type": "code",
      "source": [
        "import numpy as np\n",
        "\n",
        "a = np.array([[2, 3, 4], [2, 6, 8], [4, 9, -4]])\n",
        "b = np.array([3, 5, 4])\n",
        "x = np.linalg.solve(a, b)\n",
        "\n",
        "print(\"La solución del sistema es: \", x)"
      ],
      "metadata": {
        "colab": {
          "base_uri": "https://localhost:8080/"
        },
        "id": "48pISRoXmh1y",
        "outputId": "6eb6171a-9f71-4dd9-b6ec-700b98ed8e04"
      },
      "execution_count": 2,
      "outputs": [
        {
          "output_type": "stream",
          "name": "stdout",
          "text": [
            "La solución del sistema es:  [0.5        0.33333333 0.25      ]\n"
          ]
        }
      ]
    },
    {
      "cell_type": "markdown",
      "source": [
        "utilizando scipy"
      ],
      "metadata": {
        "id": "_1211Z6-mxKD"
      }
    },
    {
      "cell_type": "code",
      "source": [
        "from scipy.linalg import solve\n",
        "\n",
        "a2 = [[2, 3, 4], [2, 6, 8], [4, 9, -4]]\n",
        "b2 = [3, 5, 4]\n",
        "x = solve(a2, b2)\n",
        "\n",
        "print(\"La solución del sistema es: \", x)"
      ],
      "metadata": {
        "colab": {
          "base_uri": "https://localhost:8080/"
        },
        "id": "QQ8im_q9m0XO",
        "outputId": "cbf6cbd9-2465-4222-db5a-5a90e031a5dc"
      },
      "execution_count": 3,
      "outputs": [
        {
          "output_type": "stream",
          "name": "stdout",
          "text": [
            "La solución del sistema es:  [0.5        0.33333333 0.25      ]\n"
          ]
        }
      ]
    },
    {
      "cell_type": "markdown",
      "source": [
        "otra forma mejor racionalizada"
      ],
      "metadata": {
        "id": "IHnd6xennJRP"
      }
    },
    {
      "cell_type": "code",
      "source": [
        "from sympy import symbols, linsolve\n",
        "\n",
        "x, y, z= symbols('x y z')\n",
        "\n",
        "sol = linsolve([2*x + 3*y + 4*z - 3, 2*x + 6*y + 8*z - 5, 4*x + 9*y - 4*z -4],\n",
        "         [x, y, z])\n",
        "\n",
        "print(\"La solución es: \", sol)"
      ],
      "metadata": {
        "colab": {
          "base_uri": "https://localhost:8080/"
        },
        "id": "mfgA0mGwnMAi",
        "outputId": "8c4855b9-5187-4bcc-fd4c-3ad38a63ba51"
      },
      "execution_count": 4,
      "outputs": [
        {
          "output_type": "stream",
          "name": "stdout",
          "text": [
            "La solución es:  {(1/2, 1/3, 1/4)}\n"
          ]
        }
      ]
    }
  ]
}